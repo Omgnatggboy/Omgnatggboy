{
  "nbformat": 4,
  "nbformat_minor": 0,
  "metadata": {
    "colab": {
      "name": "Untitled0.ipynb",
      "provenance": [],
      "authorship_tag": "ABX9TyOn42efUYziNOrPEdeYCh/W",
      "include_colab_link": true
    },
    "kernelspec": {
      "name": "python3",
      "display_name": "Python 3"
    },
    "language_info": {
      "name": "python"
    }
  },
  "cells": [
    {
      "cell_type": "markdown",
      "metadata": {
        "id": "view-in-github",
        "colab_type": "text"
      },
      "source": [
        "<a href=\"https://colab.research.google.com/github/Omgnatggboy/Omgnatggboy/blob/main/Untitled0.ipynb\" target=\"_parent\"><img src=\"https://colab.research.google.com/assets/colab-badge.svg\" alt=\"Open In Colab\"/></a>"
      ]
    },
    {
      "cell_type": "code",
      "execution_count": 2,
      "metadata": {
        "colab": {
          "base_uri": "https://localhost:8080/"
        },
        "id": "r1y3qErXtE-T",
        "outputId": "3ade4e96-47d7-4152-afce-5ee3b9812fa2"
      },
      "outputs": [
        {
          "output_type": "stream",
          "name": "stdout",
          "text": [
            "<class 'int'>\n"
          ]
        }
      ],
      "source": [
        "x=10\n",
        "print(type(x))"
      ]
    },
    {
      "cell_type": "code",
      "source": [
        "y=5\n",
        "##start x=10\n",
        "##end x=25\n",
        "##step +1\n",
        "for n in range(10,26,1):\n",
        "  print('จำนวนรอบ:',n)\n",
        "  print('y:',y)\n",
        "  y+=1 ##y=y+1\n",
        "print('จำนวนรอบ:',n)\n",
        "print('คำตอบ:',y)"
      ],
      "metadata": {
        "colab": {
          "base_uri": "https://localhost:8080/"
        },
        "id": "_SqT8y2ptzcf",
        "outputId": "753a30dc-cb3c-4313-e268-aff22547195a"
      },
      "execution_count": 7,
      "outputs": [
        {
          "output_type": "stream",
          "name": "stdout",
          "text": [
            "จำนวนรอบ: 10\n",
            "y: 5\n",
            "จำนวนรอบ: 11\n",
            "y: 6\n",
            "จำนวนรอบ: 12\n",
            "y: 7\n",
            "จำนวนรอบ: 13\n",
            "y: 8\n",
            "จำนวนรอบ: 14\n",
            "y: 9\n",
            "จำนวนรอบ: 15\n",
            "y: 10\n",
            "จำนวนรอบ: 16\n",
            "y: 11\n",
            "จำนวนรอบ: 17\n",
            "y: 12\n",
            "จำนวนรอบ: 18\n",
            "y: 13\n",
            "จำนวนรอบ: 19\n",
            "y: 14\n",
            "จำนวนรอบ: 20\n",
            "y: 15\n",
            "จำนวนรอบ: 21\n",
            "y: 16\n",
            "จำนวนรอบ: 22\n",
            "y: 17\n",
            "จำนวนรอบ: 23\n",
            "y: 18\n",
            "จำนวนรอบ: 24\n",
            "y: 19\n",
            "จำนวนรอบ: 25\n",
            "y: 20\n",
            "จำนวนรอบ: 25\n",
            "คำตอบ: 21\n"
          ]
        }
      ]
    }
  ]
}